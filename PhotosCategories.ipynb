{
  "nbformat": 4,
  "nbformat_minor": 0,
  "metadata": {
    "colab": {
      "provenance": [],
      "include_colab_link": true
    },
    "kernelspec": {
      "name": "python3",
      "display_name": "Python 3"
    },
    "language_info": {
      "name": "python"
    }
  },
  "cells": [
    {
      "cell_type": "markdown",
      "metadata": {
        "id": "view-in-github",
        "colab_type": "text"
      },
      "source": [
        "<a href=\"https://colab.research.google.com/github/Alicja0/inznierka/blob/main/PhotosCategories.ipynb\" target=\"_parent\"><img src=\"https://colab.research.google.com/assets/colab-badge.svg\" alt=\"Open In Colab\"/></a>"
      ]
    },
    {
      "cell_type": "code",
      "execution_count": null,
      "metadata": {
        "id": "-Wj95ktLyMDV"
      },
      "outputs": [],
      "source": [
        "import os\n",
        "import pandas as pd\n",
        "import shutil\n",
        "from google.colab import drive\n",
        "drive.mount('/content/drive')\n",
        "\n",
        "# Ścieżka do katalogu ze zdjęciami\n",
        "image_directory = \"/content/drive/My Drive/odir/all\"\n",
        "\n",
        "# Ścieżka do pliku Excel z danymi/opisami\n",
        "excel_file = \"/content/drive/My Drive/odir/full_df.xlsx\"\n",
        "\n",
        "# Ścieżka do katalogu, w którym mają być tworzone foldery z kategoriami\n",
        "output_directory = \"/content/drive/My Drive/odir/categories\"\n",
        "\n",
        "# Wczytaj plik Excel\n",
        "df = pd.read_excel(excel_file)\n",
        "\n",
        "# Przejdź przez wszystkie wiersze w pliku Excel\n",
        "for index, row in df.iterrows():\n",
        "    # Nazwy plików dla prawego i lewego oka\n",
        "    right_eye_image = row['Right-Fundus']  # Nazwa pliku dla prawego oka\n",
        "    left_eye_image = row['Left-Fundus']    # Nazwa pliku dla lewego oka\n",
        "\n",
        "    # Kategorie przypisane do prawego i lewego oka\n",
        "    right_eye_categories = row['Right-Diagnostic Keywords'].split(';')  # Kategorie rozdzielone są średnikami\n",
        "    left_eye_categories = row['Left-Diagnostic Keywords'].split(';')\n",
        "\n",
        "    # Zbierz wszystkie unikalne kategorie dla obu oczu\n",
        "    all_categories = set(right_eye_categories + left_eye_categories)\n",
        "\n",
        "    # Przenieś oba zdjęcia do folderów odpowiadających kategoriom\n",
        "    for category in all_categories:\n",
        "        # Tworzenie katalogu dla danej kategorii, jeśli nie istnieje\n",
        "        category_folder = os.path.join(output_directory, category.strip())\n",
        "        if not os.path.exists(category_folder):\n",
        "            os.makedirs(category_folder)\n",
        "\n",
        "        # Przenoszenie zdjęcia prawego oka do odpowiednich folderów\n",
        "        right_eye_source = os.path.join(image_directory, right_eye_image)\n",
        "        right_eye_destination = os.path.join(category_folder, right_eye_image)\n",
        "\n",
        "        if os.path.exists(right_eye_source):\n",
        "            shutil.copy(right_eye_source, right_eye_destination)\n",
        "            print(f'Przeniesiono {right_eye_image} do folderu {category_folder}')\n",
        "        else:\n",
        "            print(f'Zdjęcie {right_eye_image} nie zostało znalezione w {image_directory}')\n",
        "\n",
        "        # Przenoszenie zdjęcia lewego oka do odpowiednich folderów\n",
        "        left_eye_source = os.path.join(image_directory, left_eye_image)\n",
        "        left_eye_destination = os.path.join(category_folder, left_eye_image)\n",
        "\n",
        "        if os.path.exists(left_eye_source):\n",
        "            shutil.copy(left_eye_source, left_eye_destination)\n",
        "            print(f'Przeniesiono {left_eye_image} do folderu {category_folder}')\n",
        "        else:\n",
        "            print(f'Zdjęcie {left_eye_image} nie zostało znalezione w {image_directory}')\n"
      ]
    }
  ]
}